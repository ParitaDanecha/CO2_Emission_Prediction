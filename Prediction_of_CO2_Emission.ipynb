{
 "cells": [
  {
   "cell_type": "markdown",
   "metadata": {},
   "source": [
    "# Prediction of CO2 emission on the Basis of Technical Parameters of vehicles using linear regression technique"
   ]
  },
  {
   "cell_type": "markdown",
   "metadata": {},
   "source": [
    "**`FuelConsumption.csv`** is a vehicle fuel consumption data set that contains model-specific fuel consumption.\n",
    "-   **MODELYEAR** e.g. 2014\n",
    "-   **MAKE** e.g. Acura\n",
    "-   **MODEL** e.g. ILX\n",
    "-   **VEHICLE CLASS** e.g. SUV\n",
    "-   **ENGINE SIZE (L)** e.g. 2.0\n",
    "-   **CYLINDERS** e.g 6\n",
    "-   **TRANSMISSION** e.g. A6\n",
    "-   **FUEL CONSUMPTION in CITY(L/100 km)** e.g. 9.9\n",
    "-   **FUEL CONSUMPTION in HWY (L/100 km)** e.g. 8.9\n",
    "-   **FUEL CONSUMPTION COMB (L/100 km)** e.g. 9.2\n",
    "-   **CO2 EMISSIONS (g/km)** e.g. 182"
   ]
  },
  {
   "cell_type": "code",
   "execution_count": 1,
   "metadata": {},
   "outputs": [],
   "source": [
    "import numpy as np\n",
    "import matplotlib.pyplot as plt\n",
    "import pandas as pd\n",
    "import sklearn "
   ]
  },
  {
   "cell_type": "code",
   "execution_count": 2,
   "metadata": {},
   "outputs": [],
   "source": [
    "data = pd.read_csv(\"FuelConsumption.csv\")"
   ]
  },
  {
   "cell_type": "code",
   "execution_count": 3,
   "metadata": {},
   "outputs": [
    {
     "data": {
      "text/html": [
       "<div>\n",
       "<style scoped>\n",
       "    .dataframe tbody tr th:only-of-type {\n",
       "        vertical-align: middle;\n",
       "    }\n",
       "\n",
       "    .dataframe tbody tr th {\n",
       "        vertical-align: top;\n",
       "    }\n",
       "\n",
       "    .dataframe thead th {\n",
       "        text-align: right;\n",
       "    }\n",
       "</style>\n",
       "<table border=\"1\" class=\"dataframe\">\n",
       "  <thead>\n",
       "    <tr style=\"text-align: right;\">\n",
       "      <th></th>\n",
       "      <th>MODELYEAR</th>\n",
       "      <th>MAKE</th>\n",
       "      <th>MODEL</th>\n",
       "      <th>VEHICLECLASS</th>\n",
       "      <th>ENGINESIZE</th>\n",
       "      <th>CYLINDERS</th>\n",
       "      <th>TRANSMISSION</th>\n",
       "      <th>FUELTYPE</th>\n",
       "      <th>FUELCONSUMPTION_CITY</th>\n",
       "      <th>FUELCONSUMPTION_HWY</th>\n",
       "      <th>FUELCONSUMPTION_COMB</th>\n",
       "      <th>FUELCONSUMPTION_COMB_MPG</th>\n",
       "      <th>CO2EMISSIONS</th>\n",
       "    </tr>\n",
       "  </thead>\n",
       "  <tbody>\n",
       "    <tr>\n",
       "      <th>727</th>\n",
       "      <td>2014</td>\n",
       "      <td>MERCEDES-BENZ</td>\n",
       "      <td>C 350 4MATIC</td>\n",
       "      <td>COMPACT</td>\n",
       "      <td>3.5</td>\n",
       "      <td>6</td>\n",
       "      <td>AS7</td>\n",
       "      <td>Z</td>\n",
       "      <td>11.9</td>\n",
       "      <td>8.6</td>\n",
       "      <td>10.4</td>\n",
       "      <td>27</td>\n",
       "      <td>239</td>\n",
       "    </tr>\n",
       "    <tr>\n",
       "      <th>81</th>\n",
       "      <td>2014</td>\n",
       "      <td>BMW</td>\n",
       "      <td>328i</td>\n",
       "      <td>COMPACT</td>\n",
       "      <td>2.0</td>\n",
       "      <td>4</td>\n",
       "      <td>A8</td>\n",
       "      <td>Z</td>\n",
       "      <td>10.0</td>\n",
       "      <td>6.5</td>\n",
       "      <td>8.4</td>\n",
       "      <td>34</td>\n",
       "      <td>193</td>\n",
       "    </tr>\n",
       "    <tr>\n",
       "      <th>904</th>\n",
       "      <td>2014</td>\n",
       "      <td>PORSCHE</td>\n",
       "      <td>PANAMERA 4S EXECUTIVE</td>\n",
       "      <td>FULL-SIZE</td>\n",
       "      <td>3.0</td>\n",
       "      <td>6</td>\n",
       "      <td>AM7</td>\n",
       "      <td>Z</td>\n",
       "      <td>13.7</td>\n",
       "      <td>8.9</td>\n",
       "      <td>11.5</td>\n",
       "      <td>25</td>\n",
       "      <td>264</td>\n",
       "    </tr>\n",
       "    <tr>\n",
       "      <th>252</th>\n",
       "      <td>2014</td>\n",
       "      <td>CHEVROLET</td>\n",
       "      <td>SONIC 5</td>\n",
       "      <td>MID-SIZE</td>\n",
       "      <td>1.4</td>\n",
       "      <td>4</td>\n",
       "      <td>M6</td>\n",
       "      <td>X</td>\n",
       "      <td>8.5</td>\n",
       "      <td>6.2</td>\n",
       "      <td>7.5</td>\n",
       "      <td>38</td>\n",
       "      <td>172</td>\n",
       "    </tr>\n",
       "    <tr>\n",
       "      <th>906</th>\n",
       "      <td>2014</td>\n",
       "      <td>PORSCHE</td>\n",
       "      <td>PANAMERA S</td>\n",
       "      <td>FULL-SIZE</td>\n",
       "      <td>3.0</td>\n",
       "      <td>6</td>\n",
       "      <td>AM7</td>\n",
       "      <td>Z</td>\n",
       "      <td>13.4</td>\n",
       "      <td>8.8</td>\n",
       "      <td>11.3</td>\n",
       "      <td>25</td>\n",
       "      <td>260</td>\n",
       "    </tr>\n",
       "    <tr>\n",
       "      <th>888</th>\n",
       "      <td>2014</td>\n",
       "      <td>PORSCHE</td>\n",
       "      <td>BOXSTER S</td>\n",
       "      <td>TWO-SEATER</td>\n",
       "      <td>3.4</td>\n",
       "      <td>6</td>\n",
       "      <td>AM7</td>\n",
       "      <td>Z</td>\n",
       "      <td>11.3</td>\n",
       "      <td>7.9</td>\n",
       "      <td>9.8</td>\n",
       "      <td>29</td>\n",
       "      <td>225</td>\n",
       "    </tr>\n",
       "  </tbody>\n",
       "</table>\n",
       "</div>"
      ],
      "text/plain": [
       "     MODELYEAR           MAKE                  MODEL VEHICLECLASS  ENGINESIZE  \\\n",
       "727       2014  MERCEDES-BENZ           C 350 4MATIC      COMPACT         3.5   \n",
       "81        2014            BMW                   328i      COMPACT         2.0   \n",
       "904       2014        PORSCHE  PANAMERA 4S EXECUTIVE    FULL-SIZE         3.0   \n",
       "252       2014      CHEVROLET                SONIC 5     MID-SIZE         1.4   \n",
       "906       2014        PORSCHE             PANAMERA S    FULL-SIZE         3.0   \n",
       "888       2014        PORSCHE              BOXSTER S   TWO-SEATER         3.4   \n",
       "\n",
       "     CYLINDERS TRANSMISSION FUELTYPE  FUELCONSUMPTION_CITY  \\\n",
       "727          6          AS7        Z                  11.9   \n",
       "81           4           A8        Z                  10.0   \n",
       "904          6          AM7        Z                  13.7   \n",
       "252          4           M6        X                   8.5   \n",
       "906          6          AM7        Z                  13.4   \n",
       "888          6          AM7        Z                  11.3   \n",
       "\n",
       "     FUELCONSUMPTION_HWY  FUELCONSUMPTION_COMB  FUELCONSUMPTION_COMB_MPG  \\\n",
       "727                  8.6                  10.4                        27   \n",
       "81                   6.5                   8.4                        34   \n",
       "904                  8.9                  11.5                        25   \n",
       "252                  6.2                   7.5                        38   \n",
       "906                  8.8                  11.3                        25   \n",
       "888                  7.9                   9.8                        29   \n",
       "\n",
       "     CO2EMISSIONS  \n",
       "727           239  \n",
       "81            193  \n",
       "904           264  \n",
       "252           172  \n",
       "906           260  \n",
       "888           225  "
      ]
     },
     "execution_count": 3,
     "metadata": {},
     "output_type": "execute_result"
    }
   ],
   "source": [
    "data.sample(6)"
   ]
  },
  {
   "cell_type": "code",
   "execution_count": 4,
   "metadata": {},
   "outputs": [
    {
     "data": {
      "text/html": [
       "<div>\n",
       "<style scoped>\n",
       "    .dataframe tbody tr th:only-of-type {\n",
       "        vertical-align: middle;\n",
       "    }\n",
       "\n",
       "    .dataframe tbody tr th {\n",
       "        vertical-align: top;\n",
       "    }\n",
       "\n",
       "    .dataframe thead th {\n",
       "        text-align: right;\n",
       "    }\n",
       "</style>\n",
       "<table border=\"1\" class=\"dataframe\">\n",
       "  <thead>\n",
       "    <tr style=\"text-align: right;\">\n",
       "      <th></th>\n",
       "      <th>MODELYEAR</th>\n",
       "      <th>ENGINESIZE</th>\n",
       "      <th>CYLINDERS</th>\n",
       "      <th>FUELCONSUMPTION_CITY</th>\n",
       "      <th>FUELCONSUMPTION_HWY</th>\n",
       "      <th>FUELCONSUMPTION_COMB</th>\n",
       "      <th>FUELCONSUMPTION_COMB_MPG</th>\n",
       "      <th>CO2EMISSIONS</th>\n",
       "    </tr>\n",
       "  </thead>\n",
       "  <tbody>\n",
       "    <tr>\n",
       "      <th>MODELYEAR</th>\n",
       "      <td>NaN</td>\n",
       "      <td>NaN</td>\n",
       "      <td>NaN</td>\n",
       "      <td>NaN</td>\n",
       "      <td>NaN</td>\n",
       "      <td>NaN</td>\n",
       "      <td>NaN</td>\n",
       "      <td>NaN</td>\n",
       "    </tr>\n",
       "    <tr>\n",
       "      <th>ENGINESIZE</th>\n",
       "      <td>NaN</td>\n",
       "      <td>1.000000</td>\n",
       "      <td>0.934011</td>\n",
       "      <td>0.832225</td>\n",
       "      <td>0.778746</td>\n",
       "      <td>0.819482</td>\n",
       "      <td>-0.808554</td>\n",
       "      <td>0.874154</td>\n",
       "    </tr>\n",
       "    <tr>\n",
       "      <th>CYLINDERS</th>\n",
       "      <td>NaN</td>\n",
       "      <td>0.934011</td>\n",
       "      <td>1.000000</td>\n",
       "      <td>0.796473</td>\n",
       "      <td>0.724594</td>\n",
       "      <td>0.776788</td>\n",
       "      <td>-0.770430</td>\n",
       "      <td>0.849685</td>\n",
       "    </tr>\n",
       "    <tr>\n",
       "      <th>FUELCONSUMPTION_CITY</th>\n",
       "      <td>NaN</td>\n",
       "      <td>0.832225</td>\n",
       "      <td>0.796473</td>\n",
       "      <td>1.000000</td>\n",
       "      <td>0.965718</td>\n",
       "      <td>0.995542</td>\n",
       "      <td>-0.935613</td>\n",
       "      <td>0.898039</td>\n",
       "    </tr>\n",
       "    <tr>\n",
       "      <th>FUELCONSUMPTION_HWY</th>\n",
       "      <td>NaN</td>\n",
       "      <td>0.778746</td>\n",
       "      <td>0.724594</td>\n",
       "      <td>0.965718</td>\n",
       "      <td>1.000000</td>\n",
       "      <td>0.985804</td>\n",
       "      <td>-0.893809</td>\n",
       "      <td>0.861748</td>\n",
       "    </tr>\n",
       "    <tr>\n",
       "      <th>FUELCONSUMPTION_COMB</th>\n",
       "      <td>NaN</td>\n",
       "      <td>0.819482</td>\n",
       "      <td>0.776788</td>\n",
       "      <td>0.995542</td>\n",
       "      <td>0.985804</td>\n",
       "      <td>1.000000</td>\n",
       "      <td>-0.927965</td>\n",
       "      <td>0.892129</td>\n",
       "    </tr>\n",
       "    <tr>\n",
       "      <th>FUELCONSUMPTION_COMB_MPG</th>\n",
       "      <td>NaN</td>\n",
       "      <td>-0.808554</td>\n",
       "      <td>-0.770430</td>\n",
       "      <td>-0.935613</td>\n",
       "      <td>-0.893809</td>\n",
       "      <td>-0.927965</td>\n",
       "      <td>1.000000</td>\n",
       "      <td>-0.906394</td>\n",
       "    </tr>\n",
       "    <tr>\n",
       "      <th>CO2EMISSIONS</th>\n",
       "      <td>NaN</td>\n",
       "      <td>0.874154</td>\n",
       "      <td>0.849685</td>\n",
       "      <td>0.898039</td>\n",
       "      <td>0.861748</td>\n",
       "      <td>0.892129</td>\n",
       "      <td>-0.906394</td>\n",
       "      <td>1.000000</td>\n",
       "    </tr>\n",
       "  </tbody>\n",
       "</table>\n",
       "</div>"
      ],
      "text/plain": [
       "                          MODELYEAR  ENGINESIZE  CYLINDERS  \\\n",
       "MODELYEAR                       NaN         NaN        NaN   \n",
       "ENGINESIZE                      NaN    1.000000   0.934011   \n",
       "CYLINDERS                       NaN    0.934011   1.000000   \n",
       "FUELCONSUMPTION_CITY            NaN    0.832225   0.796473   \n",
       "FUELCONSUMPTION_HWY             NaN    0.778746   0.724594   \n",
       "FUELCONSUMPTION_COMB            NaN    0.819482   0.776788   \n",
       "FUELCONSUMPTION_COMB_MPG        NaN   -0.808554  -0.770430   \n",
       "CO2EMISSIONS                    NaN    0.874154   0.849685   \n",
       "\n",
       "                          FUELCONSUMPTION_CITY  FUELCONSUMPTION_HWY  \\\n",
       "MODELYEAR                                  NaN                  NaN   \n",
       "ENGINESIZE                            0.832225             0.778746   \n",
       "CYLINDERS                             0.796473             0.724594   \n",
       "FUELCONSUMPTION_CITY                  1.000000             0.965718   \n",
       "FUELCONSUMPTION_HWY                   0.965718             1.000000   \n",
       "FUELCONSUMPTION_COMB                  0.995542             0.985804   \n",
       "FUELCONSUMPTION_COMB_MPG             -0.935613            -0.893809   \n",
       "CO2EMISSIONS                          0.898039             0.861748   \n",
       "\n",
       "                          FUELCONSUMPTION_COMB  FUELCONSUMPTION_COMB_MPG  \\\n",
       "MODELYEAR                                  NaN                       NaN   \n",
       "ENGINESIZE                            0.819482                 -0.808554   \n",
       "CYLINDERS                             0.776788                 -0.770430   \n",
       "FUELCONSUMPTION_CITY                  0.995542                 -0.935613   \n",
       "FUELCONSUMPTION_HWY                   0.985804                 -0.893809   \n",
       "FUELCONSUMPTION_COMB                  1.000000                 -0.927965   \n",
       "FUELCONSUMPTION_COMB_MPG             -0.927965                  1.000000   \n",
       "CO2EMISSIONS                          0.892129                 -0.906394   \n",
       "\n",
       "                          CO2EMISSIONS  \n",
       "MODELYEAR                          NaN  \n",
       "ENGINESIZE                    0.874154  \n",
       "CYLINDERS                     0.849685  \n",
       "FUELCONSUMPTION_CITY          0.898039  \n",
       "FUELCONSUMPTION_HWY           0.861748  \n",
       "FUELCONSUMPTION_COMB          0.892129  \n",
       "FUELCONSUMPTION_COMB_MPG     -0.906394  \n",
       "CO2EMISSIONS                  1.000000  "
      ]
     },
     "execution_count": 4,
     "metadata": {},
     "output_type": "execute_result"
    }
   ],
   "source": [
    "corr = data.corr()\n",
    "corr"
   ]
  },
  {
   "cell_type": "code",
   "execution_count": 5,
   "metadata": {},
   "outputs": [
    {
     "name": "stdout",
     "output_type": "stream",
     "text": [
      "Correlation between CO2 emission and engine size is 0.8741543683958108\n"
     ]
    }
   ],
   "source": [
    "correlation = data[['ENGINESIZE','CO2EMISSIONS']].corr()\n",
    "print('Correlation between CO2 emission and engine size is ' + str(correlation['CO2EMISSIONS']['ENGINESIZE']))"
   ]
  },
  {
   "cell_type": "markdown",
   "metadata": {},
   "source": [
    "ENGINESIZE is well correlated with CO2EMISSIONS (correlation of 0.87 is rather close to 1) so it can be taken as a unique predictor for the CO2 emission."
   ]
  },
  {
   "cell_type": "code",
   "execution_count": 6,
   "metadata": {},
   "outputs": [],
   "source": [
    "X = data['ENGINESIZE'].values.reshape(-1,1)\n",
    "y = data['CO2EMISSIONS'].values.reshape(-1,1)"
   ]
  },
  {
   "cell_type": "code",
   "execution_count": 7,
   "metadata": {},
   "outputs": [
    {
     "data": {
      "image/png": "[encoded data removed]",
      "text/plain": [
       "<Figure size 432x288 with 1 Axes>"
      ]
     },
     "metadata": {
      "needs_background": "light"
     },
     "output_type": "display_data"
    }
   ],
   "source": [
    "plt.scatter(X, y)\n",
    "plt.xlabel(\"Engine size\")\n",
    "plt.ylabel(\"CO2 emission\")\n",
    "plt.show()"
   ]
  },
  {
   "cell_type": "markdown",
   "metadata": {},
   "source": [
    "The scatter plot looks linear so probably the regression model will fit well."
   ]
  },
  {
   "cell_type": "markdown",
   "metadata": {},
   "source": [
    "* Train a linear regression model for the prediction of the CO2 emission based exclusively on the engine size"
   ]
  },
  {
   "cell_type": "code",
   "execution_count": 8,
   "metadata": {},
   "outputs": [],
   "source": [
    "from sklearn.model_selection import train_test_split\n",
    "X_train, X_test, y_train, y_test = train_test_split(X, y, test_size = 1/3, random_state = 0)"
   ]
  },
  {
   "cell_type": "code",
   "execution_count": 9,
   "metadata": {},
   "outputs": [
    {
     "data": {
      "text/plain": [
       "LinearRegression()"
      ]
     },
     "execution_count": 9,
     "metadata": {},
     "output_type": "execute_result"
    }
   ],
   "source": [
    "from sklearn.linear_model import LinearRegression\n",
    "regr = LinearRegression()\n",
    "regr.fit(X_train, y_train)"
   ]
  },
  {
   "cell_type": "code",
   "execution_count": 10,
   "metadata": {},
   "outputs": [
    {
     "name": "stdout",
     "output_type": "stream",
     "text": [
      "Coefficients:  39.85725417403618\n",
      "Intercept:  125.07790674626347\n"
     ]
    }
   ],
   "source": [
    "print('Coefficients: ', regr.coef_[0][0])\n",
    "print('Intercept: ', regr.intercept_[0])"
   ]
  },
  {
   "cell_type": "markdown",
   "metadata": {},
   "source": [
    "* Plot the fit line over the data."
   ]
  },
  {
   "cell_type": "code",
   "execution_count": 11,
   "metadata": {},
   "outputs": [
    {
     "data": {
      "image/png": "[encoded data removed]",
      "text/plain": [
       "<Figure size 1152x576 with 1 Axes>"
      ]
     },
     "metadata": {
      "needs_background": "light"
     },
     "output_type": "display_data"
    }
   ],
   "source": [
    "X_plot = np.arange(min(X), max(X), 0.1)\n",
    "y_plot = regr.predict(X_plot.reshape(-1, 1))\n",
    "\n",
    "plt.figure(figsize=(16, 8))\n",
    "plt.scatter(X, y, c='black')\n",
    "plt.plot(X_plot, y_plot, c='blue', linewidth=2)\n",
    "plt.xlabel(\"Engine size\")\n",
    "plt.ylabel(\"CO2 emission\")\n",
    "plt.show()"
   ]
  },
  {
   "cell_type": "markdown",
   "metadata": {},
   "source": [
    "* Distribution of the residuals (i.e. the error terms)."
   ]
  },
  {
   "cell_type": "code",
   "execution_count": 12,
   "metadata": {},
   "outputs": [],
   "source": [
    "y_pred = regr.predict(X_test)"
   ]
  },
  {
   "cell_type": "code",
   "execution_count": 13,
   "metadata": {},
   "outputs": [
    {
     "data": {
      "image/png": "[encoded data removed]",
      "text/plain": [
       "<Figure size 432x288 with 1 Axes>"
      ]
     },
     "metadata": {
      "needs_background": "light"
     },
     "output_type": "display_data"
    }
   ],
   "source": [
    "residuals =  y_test - y_pred\n",
    "plt.hist(x=residuals)\n",
    "plt.xlabel('Error on CO2 emission')\n",
    "plt.ylabel('Count')\n",
    "plt.title(\"Distribution of the residuals\")\n",
    "plt.show()"
   ]
  },
  {
   "cell_type": "markdown",
   "metadata": {},
   "source": [
    "* Model accuracy."
   ]
  },
  {
   "cell_type": "code",
   "execution_count": 14,
   "metadata": {},
   "outputs": [
    {
     "name": "stdout",
     "output_type": "stream",
     "text": [
      "Residual sum of squares (RSS): 373781.28\n",
      "Mean absolute error (MAE): 24.86\n",
      "Mean square error (MSE): 1049.95\n",
      "Root mean square error (RMSE): 32.40\n"
     ]
    }
   ],
   "source": [
    "print(\"Residual sum of squares (RSS): %.2f\" % sum((y_pred - y_test) ** 2))\n",
    "print(\"Mean absolute error (MAE): %.2f\" % np.mean(abs(y_pred - y_test)))\n",
    "print(\"Mean square error (MSE): %.2f\" % np.mean((y_pred - y_test) ** 2))\n",
    "print(\"Root mean square error (RMSE): %.2f\" % np.sqrt(np.mean((y_pred - y_test) ** 2)))"
   ]
  },
  {
   "cell_type": "markdown",
   "metadata": {},
   "source": [
    "* Train a linear regression model for the prediction of the CO2 emission now based exclusively on the combined fuel consumption (FUELCONSUMPTION_COMB)"
   ]
  },
  {
   "cell_type": "code",
   "execution_count": 15,
   "metadata": {},
   "outputs": [],
   "source": [
    "X = data['FUELCONSUMPTION_COMB'].values.reshape(-1,1)"
   ]
  },
  {
   "cell_type": "code",
   "execution_count": 16,
   "metadata": {},
   "outputs": [],
   "source": [
    "X_train, X_test, y_train, y_test = train_test_split(X, y, test_size = 1/3, random_state = 0)"
   ]
  },
  {
   "cell_type": "code",
   "execution_count": 17,
   "metadata": {},
   "outputs": [
    {
     "data": {
      "text/plain": [
       "LinearRegression()"
      ]
     },
     "execution_count": 17,
     "metadata": {},
     "output_type": "execute_result"
    }
   ],
   "source": [
    "regr = LinearRegression()\n",
    "regr.fit(X_train, y_train)"
   ]
  },
  {
   "cell_type": "code",
   "execution_count": 18,
   "metadata": {},
   "outputs": [
    {
     "name": "stdout",
     "output_type": "stream",
     "text": [
      "Residual sum of squares (RSS): 309995.19\n",
      "Mean absolute error (MAE): 20.34\n",
      "Mean square error (MSE): 870.77\n",
      "Root mean square error (RMSE): 29.51\n"
     ]
    }
   ],
   "source": [
    "y_pred = regr.predict(X_test)\n",
    "\n",
    "print(\"Residual sum of squares (RSS): %.2f\" % sum((y_pred - y_test) ** 2))\n",
    "print(\"Mean absolute error (MAE): %.2f\" % np.mean(abs(y_pred - y_test)))\n",
    "print(\"Mean square error (MSE): %.2f\" % np.mean((y_pred - y_test) ** 2))\n",
    "print(\"Root mean square error (RMSE): %.2f\" % np.sqrt(np.mean((y_pred - y_test) ** 2)))"
   ]
  },
  {
   "cell_type": "markdown",
   "metadata": {},
   "source": [
    "The RMSE is lower here (29.51 here vs. 32.40 before) so it seems that combined fuel consumption is a slightly better predictor than engine size for CO2 consumption prediction."
   ]
  }
 ],
 "metadata": {
  "kernelspec": {
   "display_name": "Python 3",
   "language": "python",
   "name": "python3"
  },
  "language_info": {
   "codemirror_mode": {
    "name": "ipython",
    "version": 3
   },
   "file_extension": ".py",
   "mimetype": "text/x-python",
   "name": "python",
   "nbconvert_exporter": "python",
   "pygments_lexer": "ipython3",
   "version": "3.8.5"
  },
  "toc": {
   "base_numbering": 1,
   "nav_menu": {},
   "number_sections": true,
   "sideBar": true,
   "skip_h1_title": false,
   "title_cell": "Table of Contents",
   "title_sidebar": "Contents",
   "toc_cell": false,
   "toc_position": {},
   "toc_section_display": true,
   "toc_window_display": false
  }
 },
 "nbformat": 4,
 "nbformat_minor": 4
}
